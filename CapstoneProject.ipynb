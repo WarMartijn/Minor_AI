{
  "nbformat": 4,
  "nbformat_minor": 0,
  "metadata": {
    "colab": {
      "provenance": [],
      "include_colab_link": true
    },
    "kernelspec": {
      "name": "python3",
      "display_name": "Python 3"
    },
    "language_info": {
      "name": "python"
    }
  },
  "cells": [
    {
      "cell_type": "markdown",
      "metadata": {
        "id": "view-in-github",
        "colab_type": "text"
      },
      "source": [
        "<a href=\"https://colab.research.google.com/github/WarMartijn/Minor_AI/blob/main/CapstoneProject.ipynb\" target=\"_parent\"><img src=\"https://colab.research.google.com/assets/colab-badge.svg\" alt=\"Open In Colab\"/></a>"
      ]
    },
    {
      "cell_type": "markdown",
      "source": [
        "# Group 2 Capstone Project\n",
        "####*GBM survival predictions based on a Random Surival Forest model trained on clinical data*\n",
        "---\n",
        "Participants:\n",
        "<pre>\n",
        "Name                         Student Number\n",
        "*   Arman Torabi (Team lead) (1058001)\n",
        "*   Gerrit van Aalst         (1035187)\n",
        "*   Jesse de Zeeuw           (1058515)\n",
        "*   Martijn Warnas           (1048740)\n",
        "*   Thom Veldhuis            (1055805)\n",
        "</pre>\n",
        "\n",
        "\n"
      ],
      "metadata": {
        "id": "uwQHS_qPodgg"
      }
    },
    {
      "cell_type": "code",
      "execution_count": null,
      "metadata": {
        "id": "JET6Bf88etvN",
        "colab": {
          "base_uri": "https://localhost:8080/"
        },
        "outputId": "11c34af4-43c6-43bc-9df6-4e4b849c8fc5"
      },
      "outputs": [
        {
          "output_type": "stream",
          "name": "stdout",
          "text": [
            "python3: can't open file '/content/hello.py': [Errno 2] No such file or directory\n"
          ]
        }
      ],
      "source": [
        "#Load all required elements\n",
        "!python test.py"
      ]
    },
    {
      "cell_type": "code",
      "source": [
        "#Set the features, create training data etc.."
      ],
      "metadata": {
        "id": "3A3y_0VYnusb"
      },
      "execution_count": null,
      "outputs": []
    },
    {
      "cell_type": "code",
      "source": [
        "#Graphs with explanations..."
      ],
      "metadata": {
        "id": "1zarRlBfn7PY"
      },
      "execution_count": null,
      "outputs": []
    }
  ]
}